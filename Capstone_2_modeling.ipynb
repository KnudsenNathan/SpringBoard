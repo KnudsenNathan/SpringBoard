{
 "cells": [
  {
   "cell_type": "markdown",
   "metadata": {},
   "source": [
    "<h1>Part 1 - Preprocessing</h1></br>(This was accomplished in the last deliverable - skip to pt II)"
   ]
  },
  {
   "cell_type": "markdown",
   "metadata": {},
   "source": [
    "This Notebook is being used as a quick preparation for Modeling. The purpose will be to replace the categorical variable, standardize features using StandardScaler(), and to split the dataframe into training and testing sets."
   ]
  },
  {
   "cell_type": "code",
   "execution_count": 1,
   "metadata": {},
   "outputs": [],
   "source": [
    "import pandas as pd\n",
    "import matplotlib.pyplot as plt\n",
    "import seaborn as sns\n",
    "\n",
    "import os.path\n",
    "\n",
    "import warnings\n",
    "warnings.filterwarnings('ignore')"
   ]
  },
  {
   "cell_type": "markdown",
   "metadata": {},
   "source": [
    "upon inspection of my dataframe, some index columns had been inserted between all of the notebooks that I have been using. This column is simply removing the unnecessary index columns (including the seq_number id field that I used to merge tables together earlier in the project as it is no longer needed)"
   ]
  },
  {
   "cell_type": "code",
   "execution_count": 2,
   "metadata": {},
   "outputs": [],
   "source": [
    "df = pd.read_csv('my_data/prep_preprocess.csv')\n",
    "df.rename(columns={\"Unnamed: 0\":\"delete\"},inplace=True)\n",
    "df = df.drop(columns=[\"delete\",\"Seq_Number\"])"
   ]
  },
  {
   "cell_type": "markdown",
   "metadata": {},
   "source": [
    "The only Categorical field in the dataframe was the age_grp column that I inserted last notebook to differentiate between rows that represented children (<=18) and adults. This cell is replacing that field with dummy binary fields."
   ]
  },
  {
   "cell_type": "code",
   "execution_count": 3,
   "metadata": {
    "scrolled": true
   },
   "outputs": [
    {
     "data": {
      "text/html": [
       "<div>\n",
       "<style scoped>\n",
       "    .dataframe tbody tr th:only-of-type {\n",
       "        vertical-align: middle;\n",
       "    }\n",
       "\n",
       "    .dataframe tbody tr th {\n",
       "        vertical-align: top;\n",
       "    }\n",
       "\n",
       "    .dataframe thead th {\n",
       "        text-align: right;\n",
       "    }\n",
       "</style>\n",
       "<table border=\"1\" class=\"dataframe\">\n",
       "  <thead>\n",
       "    <tr style=\"text-align: right;\">\n",
       "      <th></th>\n",
       "      <th>Gender</th>\n",
       "      <th>Age_yr</th>\n",
       "      <th>#_diff_foods</th>\n",
       "      <th>tot_calories</th>\n",
       "      <th>total_protein</th>\n",
       "      <th>total_carb</th>\n",
       "      <th>total_sugar</th>\n",
       "      <th>total_fiber</th>\n",
       "      <th>total_fat</th>\n",
       "      <th>avg_visc_fat</th>\n",
       "      <th>bmi</th>\n",
       "      <th>waist</th>\n",
       "      <th>weight</th>\n",
       "      <th>ave_BP</th>\n",
       "      <th>adult</th>\n",
       "      <th>child</th>\n",
       "    </tr>\n",
       "  </thead>\n",
       "  <tbody>\n",
       "    <tr>\n",
       "      <th>0</th>\n",
       "      <td>1</td>\n",
       "      <td>69</td>\n",
       "      <td>11.0</td>\n",
       "      <td>1574.0</td>\n",
       "      <td>43.63</td>\n",
       "      <td>239.59</td>\n",
       "      <td>176.47</td>\n",
       "      <td>10.8</td>\n",
       "      <td>52.81</td>\n",
       "      <td>20.6</td>\n",
       "      <td>26.7</td>\n",
       "      <td>100.0</td>\n",
       "      <td>78.3</td>\n",
       "      <td>112.666667</td>\n",
       "      <td>1</td>\n",
       "      <td>0</td>\n",
       "    </tr>\n",
       "    <tr>\n",
       "      <th>1</th>\n",
       "      <td>1</td>\n",
       "      <td>54</td>\n",
       "      <td>8.0</td>\n",
       "      <td>5062.0</td>\n",
       "      <td>338.13</td>\n",
       "      <td>423.78</td>\n",
       "      <td>44.99</td>\n",
       "      <td>16.7</td>\n",
       "      <td>124.29</td>\n",
       "      <td>24.4</td>\n",
       "      <td>28.6</td>\n",
       "      <td>107.6</td>\n",
       "      <td>89.5</td>\n",
       "      <td>157.333333</td>\n",
       "      <td>1</td>\n",
       "      <td>0</td>\n",
       "    </tr>\n",
       "    <tr>\n",
       "      <th>2</th>\n",
       "      <td>1</td>\n",
       "      <td>72</td>\n",
       "      <td>27.0</td>\n",
       "      <td>1743.0</td>\n",
       "      <td>64.61</td>\n",
       "      <td>224.39</td>\n",
       "      <td>102.90</td>\n",
       "      <td>9.9</td>\n",
       "      <td>65.97</td>\n",
       "      <td>25.6</td>\n",
       "      <td>28.9</td>\n",
       "      <td>109.2</td>\n",
       "      <td>88.9</td>\n",
       "      <td>142.000000</td>\n",
       "      <td>1</td>\n",
       "      <td>0</td>\n",
       "    </tr>\n",
       "    <tr>\n",
       "      <th>3</th>\n",
       "      <td>1</td>\n",
       "      <td>9</td>\n",
       "      <td>19.0</td>\n",
       "      <td>1490.0</td>\n",
       "      <td>77.75</td>\n",
       "      <td>162.92</td>\n",
       "      <td>80.58</td>\n",
       "      <td>10.6</td>\n",
       "      <td>58.27</td>\n",
       "      <td>14.9</td>\n",
       "      <td>17.1</td>\n",
       "      <td>61.0</td>\n",
       "      <td>32.2</td>\n",
       "      <td>104.666667</td>\n",
       "      <td>0</td>\n",
       "      <td>1</td>\n",
       "    </tr>\n",
       "    <tr>\n",
       "      <th>4</th>\n",
       "      <td>2</td>\n",
       "      <td>73</td>\n",
       "      <td>7.0</td>\n",
       "      <td>1421.0</td>\n",
       "      <td>55.24</td>\n",
       "      <td>178.20</td>\n",
       "      <td>87.78</td>\n",
       "      <td>12.3</td>\n",
       "      <td>55.36</td>\n",
       "      <td>20.8</td>\n",
       "      <td>19.7</td>\n",
       "      <td>88.6</td>\n",
       "      <td>52.0</td>\n",
       "      <td>137.333333</td>\n",
       "      <td>1</td>\n",
       "      <td>0</td>\n",
       "    </tr>\n",
       "  </tbody>\n",
       "</table>\n",
       "</div>"
      ],
      "text/plain": [
       "   Gender  Age_yr  #_diff_foods  tot_calories  total_protein  total_carb  \\\n",
       "0       1      69          11.0        1574.0          43.63      239.59   \n",
       "1       1      54           8.0        5062.0         338.13      423.78   \n",
       "2       1      72          27.0        1743.0          64.61      224.39   \n",
       "3       1       9          19.0        1490.0          77.75      162.92   \n",
       "4       2      73           7.0        1421.0          55.24      178.20   \n",
       "\n",
       "   total_sugar  total_fiber  total_fat  avg_visc_fat   bmi  waist  weight  \\\n",
       "0       176.47         10.8      52.81          20.6  26.7  100.0    78.3   \n",
       "1        44.99         16.7     124.29          24.4  28.6  107.6    89.5   \n",
       "2       102.90          9.9      65.97          25.6  28.9  109.2    88.9   \n",
       "3        80.58         10.6      58.27          14.9  17.1   61.0    32.2   \n",
       "4        87.78         12.3      55.36          20.8  19.7   88.6    52.0   \n",
       "\n",
       "       ave_BP  adult  child  \n",
       "0  112.666667      1      0  \n",
       "1  157.333333      1      0  \n",
       "2  142.000000      1      0  \n",
       "3  104.666667      0      1  \n",
       "4  137.333333      1      0  "
      ]
     },
     "execution_count": 3,
     "metadata": {},
     "output_type": "execute_result"
    }
   ],
   "source": [
    "age_grp_dummy = pd.get_dummies(df['age_grp'])\n",
    "df = pd.concat([df,age_grp_dummy],axis=1).drop(columns=[\"age_grp\"])\n",
    "df.head()"
   ]
  },
  {
   "cell_type": "code",
   "execution_count": 4,
   "metadata": {},
   "outputs": [],
   "source": [
    "df['obese'] = 0\n",
    "df.loc[df['bmi'] >= 26, 'obese'] = 1"
   ]
  },
  {
   "cell_type": "markdown",
   "metadata": {},
   "source": [
    "Then finally we are splitting the data into training and testing sets."
   ]
  },
  {
   "cell_type": "code",
   "execution_count": 5,
   "metadata": {},
   "outputs": [],
   "source": [
    "from sklearn.model_selection import train_test_split\n",
    "\n",
    "X = df.drop(columns=[\"obese\"])\n",
    "y = df.obese == 1\n",
    "\n",
    "X_train, X_test, y_train, y_test = train_test_split(X, y, test_size=.2, random_state=42)"
   ]
  },
  {
   "cell_type": "code",
   "execution_count": 6,
   "metadata": {},
   "outputs": [],
   "source": [
    "from sklearn.preprocessing import StandardScaler\n",
    "\n",
    "scaler = StandardScaler()\n",
    "X_train = scaler.fit_transform(X_train)\n",
    "X_test = scaler.transform(X_test)"
   ]
  },
  {
   "cell_type": "markdown",
   "metadata": {},
   "source": [
    "That concludes the scope of this notebook, later we will Model our standardized data and see what insights we can come up with!"
   ]
  },
  {
   "cell_type": "markdown",
   "metadata": {},
   "source": [
    "<h1>Part 2 - Modeling</h1>"
   ]
  },
  {
   "cell_type": "markdown",
   "metadata": {},
   "source": [
    "I originally thought that this was a regression problem, but I have added a Binary field entitled obese, where individuals are given a value of 1 if they have a bmi of 26 or more as this would imply that they are overweight. With this in mind, this now becomes a classification problem and we can employ classification models...."
   ]
  },
  {
   "cell_type": "code",
   "execution_count": 7,
   "metadata": {},
   "outputs": [],
   "source": [
    "from sklearn.model_selection import train_test_split, cross_val_score, GridSearchCV, cross_val_score\n",
    "from sklearn.preprocessing import MinMaxScaler\n",
    "from sklearn.metrics import accuracy_score,confusion_matrix"
   ]
  },
  {
   "cell_type": "code",
   "execution_count": 8,
   "metadata": {},
   "outputs": [],
   "source": [
    "def display_score_results(model):\n",
    "    cv_scores_test= cross_val_score(model,X_test,y_test,cv=5,scoring='roc_auc')\n",
    "    cv_scores_train= cross_val_score(model,X_train,y_train,cv=5,scoring='roc_auc')\n",
    "    print(\"5-fold CV Scores: \", cv_scores_test)\n",
    "    print ('Mean testing score: ', cv_scores_test.mean())\n",
    "    print ('Mean training score: ', cv_scores_train.mean())\n",
    "    print ('Standard deviation: ', cv_scores_test.std())"
   ]
  },
  {
   "cell_type": "markdown",
   "metadata": {},
   "source": [
    "<h2>K-Nearest Neighbor</h2>"
   ]
  },
  {
   "cell_type": "code",
   "execution_count": 9,
   "metadata": {},
   "outputs": [
    {
     "name": "stdout",
     "output_type": "stream",
     "text": [
      "[[901  54]\n",
      " [ 56 696]]\n",
      "0.9355594610427651\n"
     ]
    }
   ],
   "source": [
    "from sklearn.neighbors import KNeighborsClassifier\n",
    "\n",
    "knn = KNeighborsClassifier(p=2,weights='distance',n_neighbors=50)\n",
    "knn.fit(X_train,y_train)\n",
    "\n",
    "y_predict_knn=knn.predict(X_test)\n",
    "\n",
    "print(confusion_matrix(y_test, y_predict_knn))\n",
    "print(knn.score(X_test,y_test))"
   ]
  },
  {
   "cell_type": "markdown",
   "metadata": {},
   "source": [
    "<h2>Support Vector Machine</h2>"
   ]
  },
  {
   "cell_type": "code",
   "execution_count": 10,
   "metadata": {},
   "outputs": [
    {
     "name": "stdout",
     "output_type": "stream",
     "text": [
      "[[955   0]\n",
      " [  8 744]]\n",
      "0.9953134153485648\n"
     ]
    }
   ],
   "source": [
    "from sklearn.svm import SVC\n",
    "\n",
    "svm = SVC(kernel='linear')\n",
    "svm.fit(X_train, y_train)\n",
    "\n",
    "y_predict_svm=svm.predict(X_test)\n",
    "\n",
    "print(confusion_matrix(y_test, y_predict_svm))\n",
    "print(svm.score(X_test,y_test))"
   ]
  },
  {
   "cell_type": "markdown",
   "metadata": {},
   "source": [
    "<h2>Random Forest</h2>"
   ]
  },
  {
   "cell_type": "code",
   "execution_count": 11,
   "metadata": {},
   "outputs": [
    {
     "name": "stdout",
     "output_type": "stream",
     "text": [
      "[[955   0]\n",
      " [  0 752]]\n",
      "1.0\n"
     ]
    }
   ],
   "source": [
    "from sklearn.ensemble import RandomForestClassifier\n",
    "\n",
    "rf = RandomForestClassifier(bootstrap=True,n_estimators=100,criterion='entropy')\n",
    "rf.fit(X_train, y_train)\n",
    "\n",
    "y_predict_rf = rf.predict(X_test)\n",
    "\n",
    "print(confusion_matrix(y_test, y_predict_rf))\n",
    "print(rf.score(X_test,y_test))"
   ]
  },
  {
   "cell_type": "markdown",
   "metadata": {},
   "source": [
    "<h2>Gradient Boosting</h2>"
   ]
  },
  {
   "cell_type": "code",
   "execution_count": 12,
   "metadata": {},
   "outputs": [
    {
     "name": "stdout",
     "output_type": "stream",
     "text": [
      "[[955   0]\n",
      " [  0 752]]\n",
      "1.0\n"
     ]
    }
   ],
   "source": [
    "from sklearn.ensemble import GradientBoostingClassifier\n",
    "\n",
    "gbc = GradientBoostingClassifier(subsample=0.8, learning_rate=0.05 , n_estimators=160, random_state=5, max_depth=9, max_leaf_nodes=100)\n",
    "gbc.fit(X_train, y_train)\n",
    "\n",
    "y_predict_gbc = gbc.predict(X_test)\n",
    "\n",
    "print(confusion_matrix(y_test, y_predict_gbc))\n",
    "print(gbc.score(X_test,y_test))"
   ]
  },
  {
   "cell_type": "markdown",
   "metadata": {},
   "source": [
    "<h2>Naive bayes</h2>"
   ]
  },
  {
   "cell_type": "code",
   "execution_count": 13,
   "metadata": {},
   "outputs": [
    {
     "name": "stdout",
     "output_type": "stream",
     "text": [
      "[[826 129]\n",
      " [ 54 698]]\n",
      "0.8927943760984183\n"
     ]
    }
   ],
   "source": [
    "from sklearn.naive_bayes import GaussianNB\n",
    "\n",
    "nb = GaussianNB()\n",
    "nb.fit(X_train,y_train)\n",
    "\n",
    "y_predict_nb=nb.predict(X_test)\n",
    "\n",
    "print(confusion_matrix(y_test, y_predict_nb))\n",
    "print(nb.score(X_test,y_test))"
   ]
  },
  {
   "cell_type": "code",
   "execution_count": 14,
   "metadata": {
    "scrolled": true
   },
   "outputs": [
    {
     "name": "stdout",
     "output_type": "stream",
     "text": [
      "KNeighborsClassifier(n_neighbors=50, weights='distance') :\n",
      "5-fold CV Scores:  [0.9809646  0.97468881 0.9809075  0.97933682 0.9599651 ]\n",
      "Mean testing score:  0.9751725668319405\n",
      "Mean training score:  0.9824374834655292\n",
      "Standard deviation:  0.007940772883526574\n",
      "------\n",
      "SVC(kernel='linear') :\n",
      "5-fold CV Scores:  [1.         0.99930654 0.99982548 0.99958115 0.99902269]\n",
      "Mean testing score:  0.9995471724281405\n",
      "Mean training score:  0.9999226646883074\n",
      "Standard deviation:  0.0003511835513666919\n",
      "------\n",
      "RandomForestClassifier(criterion='entropy') :\n",
      "5-fold CV Scores:  [1. 1. 1. 1. 1.]\n",
      "Mean testing score:  1.0\n",
      "Mean training score:  1.0\n",
      "Standard deviation:  0.0\n",
      "------\n",
      "GradientBoostingClassifier(learning_rate=0.05, max_depth=9, max_leaf_nodes=100,\n",
      "                           n_estimators=160, random_state=5, subsample=0.8) :\n",
      "5-fold CV Scores:  [1. 1. 1. 1. 1.]\n",
      "Mean testing score:  1.0\n",
      "Mean training score:  1.0\n",
      "Standard deviation:  0.0\n",
      "------\n",
      "GaussianNB() :\n",
      "5-fold CV Scores:  [0.97052807 0.9615478  0.96701571 0.96642234 0.94715532]\n",
      "Mean testing score:  0.962533846491684\n",
      "Mean training score:  0.9610407649067415\n",
      "Standard deviation:  0.00820470960458233\n",
      "------\n"
     ]
    }
   ],
   "source": [
    "for model in [knn,svm,rf,gbc,nb]:\n",
    "    print(model,\":\")\n",
    "    display_score_results(model)\n",
    "    print('------')"
   ]
  },
  {
   "cell_type": "markdown",
   "metadata": {},
   "source": [
    "It appears that RandomForest and GradientBoosting performed the best, with perfect scores. Either model would be an appropriate selection, but we will go with RandomForest as it doesn't require quite as much of a computing cost."
   ]
  }
 ],
 "metadata": {
  "kernelspec": {
   "display_name": "Python 3",
   "language": "python",
   "name": "python3"
  },
  "language_info": {
   "codemirror_mode": {
    "name": "ipython",
    "version": 3
   },
   "file_extension": ".py",
   "mimetype": "text/x-python",
   "name": "python",
   "nbconvert_exporter": "python",
   "pygments_lexer": "ipython3",
   "version": "3.8.5"
  }
 },
 "nbformat": 4,
 "nbformat_minor": 4
}
