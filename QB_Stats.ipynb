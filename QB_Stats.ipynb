{
 "cells": [
  {
   "cell_type": "markdown",
   "metadata": {},
   "source": [
    "The NFL is one of the biggest sports leagues in North America, and alot of the success rides on the coattails of the star position for each team known as the quarterback. The quarterback typically is the leader of the offense and is in charge of distributing the ball to lead the offense down the field and score points. Because American Football is a pretty brutal sport, injury is common, which is a detriment to the league (especially is star quarterbacks get hurt). Because of this, the league would be incentivized to protect their players from injury and this has been the case, as even over the course of my life there have been lots of rule changes and the addition of penalties. This made me curious if this would lead to a trend of higher productivity from offenses as defenses would have to be a little more judicious with their tackles."
   ]
  },
  {
   "cell_type": "markdown",
   "metadata": {},
   "source": [
    "So with that in mind, I grabbed a dataset from kaggle which charts Quarterback stats in each game from the 1996 season through the 2016 season. during this time the league became a lot more aware of injury (particularly head related injuries such as concussions). The idea that I had is to average out productivity per season and chart it out (using the yards column). below is my work to visualize how productivity (yards per game) has increased over the course of the 20 years between 1996 and 2016."
   ]
  },
  {
   "cell_type": "code",
   "execution_count": 1,
   "metadata": {},
   "outputs": [],
   "source": [
    "import pandas as pd\n",
    "import numpy as np\n",
    "import matplotlib.pyplot as plt\n",
    "import seaborn as sns\n",
    "from scipy import stats\n",
    "\n",
    "df = pd.read_csv('QBStats_all.csv')"
   ]
  },
  {
   "cell_type": "code",
   "execution_count": 2,
   "metadata": {
    "scrolled": true
   },
   "outputs": [
    {
     "name": "stdout",
     "output_type": "stream",
     "text": [
      "(13188, 14)\n"
     ]
    },
    {
     "data": {
      "text/html": [
       "<div>\n",
       "<style scoped>\n",
       "    .dataframe tbody tr th:only-of-type {\n",
       "        vertical-align: middle;\n",
       "    }\n",
       "\n",
       "    .dataframe tbody tr th {\n",
       "        vertical-align: top;\n",
       "    }\n",
       "\n",
       "    .dataframe thead th {\n",
       "        text-align: right;\n",
       "    }\n",
       "</style>\n",
       "<table border=\"1\" class=\"dataframe\">\n",
       "  <thead>\n",
       "    <tr style=\"text-align: right;\">\n",
       "      <th></th>\n",
       "      <th>qb</th>\n",
       "      <th>att</th>\n",
       "      <th>cmp</th>\n",
       "      <th>yds</th>\n",
       "      <th>ypa</th>\n",
       "      <th>td</th>\n",
       "      <th>int</th>\n",
       "      <th>lg</th>\n",
       "      <th>sack</th>\n",
       "      <th>loss</th>\n",
       "      <th>rate</th>\n",
       "      <th>game_points</th>\n",
       "      <th>home_away</th>\n",
       "      <th>year</th>\n",
       "    </tr>\n",
       "  </thead>\n",
       "  <tbody>\n",
       "    <tr>\n",
       "      <th>0</th>\n",
       "      <td>Boomer EsiasonB. Esiason</td>\n",
       "      <td>38</td>\n",
       "      <td>25</td>\n",
       "      <td>237.0</td>\n",
       "      <td>6.2</td>\n",
       "      <td>0</td>\n",
       "      <td>0</td>\n",
       "      <td>20</td>\n",
       "      <td>2.0</td>\n",
       "      <td>11.0</td>\n",
       "      <td>82.9</td>\n",
       "      <td>13</td>\n",
       "      <td>away</td>\n",
       "      <td>1996</td>\n",
       "    </tr>\n",
       "    <tr>\n",
       "      <th>1</th>\n",
       "      <td>Jim HarbaughJ. Harbaugh</td>\n",
       "      <td>25</td>\n",
       "      <td>16</td>\n",
       "      <td>196.0</td>\n",
       "      <td>7.8</td>\n",
       "      <td>2</td>\n",
       "      <td>1</td>\n",
       "      <td>35t</td>\n",
       "      <td>0.0</td>\n",
       "      <td>0.0</td>\n",
       "      <td>98.1</td>\n",
       "      <td>20</td>\n",
       "      <td>home</td>\n",
       "      <td>1996</td>\n",
       "    </tr>\n",
       "    <tr>\n",
       "      <th>2</th>\n",
       "      <td>Paul JustinP. Justin</td>\n",
       "      <td>8</td>\n",
       "      <td>5</td>\n",
       "      <td>53.0</td>\n",
       "      <td>6.6</td>\n",
       "      <td>0</td>\n",
       "      <td>0</td>\n",
       "      <td>30</td>\n",
       "      <td>1.0</td>\n",
       "      <td>11.0</td>\n",
       "      <td>81.8</td>\n",
       "      <td>20</td>\n",
       "      <td>home</td>\n",
       "      <td>1996</td>\n",
       "    </tr>\n",
       "    <tr>\n",
       "      <th>3</th>\n",
       "      <td>Jeff GeorgeJ. George</td>\n",
       "      <td>35</td>\n",
       "      <td>16</td>\n",
       "      <td>215.0</td>\n",
       "      <td>6.1</td>\n",
       "      <td>0</td>\n",
       "      <td>0</td>\n",
       "      <td>55</td>\n",
       "      <td>7.0</td>\n",
       "      <td>53.0</td>\n",
       "      <td>65.8</td>\n",
       "      <td>6</td>\n",
       "      <td>away</td>\n",
       "      <td>1996</td>\n",
       "    </tr>\n",
       "    <tr>\n",
       "      <th>4</th>\n",
       "      <td>Kerry CollinsK. Collins</td>\n",
       "      <td>31</td>\n",
       "      <td>17</td>\n",
       "      <td>198.0</td>\n",
       "      <td>6.4</td>\n",
       "      <td>2</td>\n",
       "      <td>0</td>\n",
       "      <td>30</td>\n",
       "      <td>4.0</td>\n",
       "      <td>12.0</td>\n",
       "      <td>95.9</td>\n",
       "      <td>29</td>\n",
       "      <td>home</td>\n",
       "      <td>1996</td>\n",
       "    </tr>\n",
       "  </tbody>\n",
       "</table>\n",
       "</div>"
      ],
      "text/plain": [
       "                         qb  att  cmp    yds  ypa  td int   lg  sack  loss  \\\n",
       "0  Boomer EsiasonB. Esiason   38   25  237.0  6.2   0   0   20   2.0  11.0   \n",
       "1   Jim HarbaughJ. Harbaugh   25   16  196.0  7.8   2   1  35t   0.0   0.0   \n",
       "2      Paul JustinP. Justin    8    5   53.0  6.6   0   0   30   1.0  11.0   \n",
       "3      Jeff GeorgeJ. George   35   16  215.0  6.1   0   0   55   7.0  53.0   \n",
       "4   Kerry CollinsK. Collins   31   17  198.0  6.4   2   0   30   4.0  12.0   \n",
       "\n",
       "   rate  game_points home_away  year  \n",
       "0  82.9           13      away  1996  \n",
       "1  98.1           20      home  1996  \n",
       "2  81.8           20      home  1996  \n",
       "3  65.8            6      away  1996  \n",
       "4  95.9           29      home  1996  "
      ]
     },
     "execution_count": 2,
     "metadata": {},
     "output_type": "execute_result"
    }
   ],
   "source": [
    "print(df.shape)\n",
    "df.head()"
   ]
  },
  {
   "cell_type": "markdown",
   "metadata": {},
   "source": [
    "<i>Side Note - This cell is just a quick couple lines of code to clean the data to make the visualization easier to work with</i>"
   ]
  },
  {
   "cell_type": "code",
   "execution_count": 3,
   "metadata": {},
   "outputs": [
    {
     "name": "stdout",
     "output_type": "stream",
     "text": [
      "(13171, 13)\n"
     ]
    }
   ],
   "source": [
    "df = df.loc[~df['lg'].isna()]\n",
    "df['int'] = pd.to_numeric(df['int'])\n",
    "df = df.drop('lg', 1)\n",
    "print(df.shape)"
   ]
  },
  {
   "cell_type": "markdown",
   "metadata": {},
   "source": [
    "<i>Side Note - This cell is used to remove outliers from the data, that way we can reliably utilize each statistics mean and thus better see the upward trend over the 20 years</i>"
   ]
  },
  {
   "cell_type": "code",
   "execution_count": 4,
   "metadata": {},
   "outputs": [],
   "source": [
    "col_num = ['att', 'cmp', 'yds', 'ypa', 'td', 'int', 'sack', 'loss', 'rate', 'game_points', 'year']\n",
    "z_scores = stats.zscore(df.loc[:,col_num])\n",
    "abs_zscore = np.abs(z_scores)\n",
    "filtered_entries = (abs_zscore < 3).all(axis=1)\n",
    "df = df[filtered_entries]"
   ]
  },
  {
   "cell_type": "markdown",
   "metadata": {},
   "source": [
    "<i>Side Note - This cell is taking our desired data and converting it into all of the aggregate data grouping it off by year.</i>"
   ]
  },
  {
   "cell_type": "code",
   "execution_count": 5,
   "metadata": {},
   "outputs": [],
   "source": [
    "avg_pts = []\n",
    "avg_yds = []\n",
    "\n",
    "for year in df['year'].unique():\n",
    "    avg_pts.append(df.loc[df['year'] == year, ['game_points']].mean())\n",
    "    avg_yds.append(df.loc[df['year'] == year, ['yds']].mean())  \n",
    "\n",
    "d = {'year': df['year'].unique(), 'avg_yds': avg_yds, 'avg_pts': avg_pts}\n",
    "small_df = pd.DataFrame(data=d)"
   ]
  },
  {
   "cell_type": "code",
   "execution_count": 6,
   "metadata": {
    "scrolled": false
   },
   "outputs": [
    {
     "data": {
      "text/plain": [
       "[<matplotlib.lines.Line2D at 0x27d44006fd0>]"
      ]
     },
     "execution_count": 6,
     "metadata": {},
     "output_type": "execute_result"
    },
    {
     "data": {
      "image/png": "[encoded data removed]",
      "text/plain": [
       "<Figure size 432x288 with 1 Axes>"
      ]
     },
     "metadata": {
      "needs_background": "light"
     },
     "output_type": "display_data"
    }
   ],
   "source": [
    "plt.plot(small_df['year'],small_df['avg_yds'])"
   ]
  },
  {
   "cell_type": "markdown",
   "metadata": {},
   "source": [
    "here is our visualization! as we can see, there was a massive spike in productivity from roughly 2008 to 2012 and this productivity has increased even since 2016. This is amazing for the league! Not only do their players stay protected, but the increase in productivity also makes the league more dynamic and entertaining to watch. The decisions to implement safety measures and penalties was a great business move by the NFL!"
   ]
  }
 ],
 "metadata": {
  "kernelspec": {
   "display_name": "Python 3",
   "language": "python",
   "name": "python3"
  },
  "language_info": {
   "codemirror_mode": {
    "name": "ipython",
    "version": 3
   },
   "file_extension": ".py",
   "mimetype": "text/x-python",
   "name": "python",
   "nbconvert_exporter": "python",
   "pygments_lexer": "ipython3",
   "version": "3.8.5"
  }
 },
 "nbformat": 4,
 "nbformat_minor": 4
}
